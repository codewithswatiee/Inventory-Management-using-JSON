{
 "cells": [
  {
   "cell_type": "code",
   "execution_count": 39,
   "id": "a0145a26-853c-4173-a3f7-90301cdd0867",
   "metadata": {},
   "outputs": [
    {
     "name": "stdout",
     "output_type": "stream",
     "text": [
      "-------------- Menu --------------\n",
      "\n",
      "1001 : \t 5 Star | 10 \t| 96\n",
      "1002 : \t Candy | 20 \t| 257\n",
      "1003 : \t Cake | 1000 \t| 93\n",
      "1004 : \t Bar One | 10 \t| 91\n",
      "1005 : \t Munch | 5 \t| 155\n",
      "\n",
      "----------------------------------\n",
      "\n"
     ]
    },
    {
     "name": "stdin",
     "output_type": "stream",
     "text": [
      "Enter your name        :  swati\n",
      "Enter your email      :  swati@gmail.com\n",
      "Enter your phone      : 9103187637\n",
      "Enter Product Id    :  1002\n",
      "Enter Quantity  :  3\n"
     ]
    },
    {
     "name": "stdout",
     "output_type": "stream",
     "text": [
      "-------------- Bill --------------\n",
      "\n",
      "Name         : Candy\n",
      "Price        : 20\n",
      "Quantity     : 3\n",
      "----------------------------------\n",
      "\n",
      "Total Amount : 60 Rs\n",
      "\n",
      "------------ Thank You -----------\n",
      "\n"
     ]
    }
   ],
   "source": [
    "import json\n",
    "import time\n",
    "\n",
    "sale = ''\n",
    "# opening the file in read mode\n",
    "fd = open('Records.json', 'r')\n",
    "js = fd.read()\n",
    "fd.close()\n",
    "\n",
    "# converting into dictionary\n",
    "record = json.loads(js)\n",
    "\n",
    "print(14*'-'+\" Menu \"+14*'-'+'\\n')\n",
    "for key in record.keys():\n",
    "    print(key, ':','\\t', record[key]['Name'], \"|\", record[key]['Price'], '\\t|', record[key]['Qn'])\n",
    "\n",
    "print('\\n'+34*'-'+'\\n')\n",
    "\n",
    "name = input('Enter your name        : ')\n",
    "email = input('Enter your email      : ')\n",
    "phone = input('Enter your phone      :')\n",
    "prod_id = input(\"Enter Product Id    : \")\n",
    "prod_qn = int(input('Enter Quantity  : '))\n",
    "\n",
    "if prod_qn <= record[prod_id]['Qn']:\n",
    "    print(14*'-'+\" Bill \"+14*'-'+'\\n')\n",
    "    \n",
    "    print('Name         :', record[prod_id]['Name'])\n",
    "    print('Price        :', record[prod_id]['Price'])\n",
    "    print('Quantity     :', prod_qn)\n",
    "    \n",
    "    print(34*'-'+'\\n')\n",
    "    print('Total Amount :', record[prod_id]['Price'] * prod_qn, 'Rs')\n",
    "    record[prod_id]['Qn'] = record[prod_id]['Qn'] - prod_qn\n",
    "\n",
    "    sales = name + ',' + email + ',' + phone + ',' + prod_id + ',' + str(prod_qn) + ',' + str(record[prod_id]['Price'] * prod_qn) + ',' + time.ctime() + '\\n'\n",
    "else:\n",
    "    print(\"Sorry! We don't have enough!\")\n",
    "    print('Do You wanna Buy', record[prod_id]['Qn'], 'Quantity?')\n",
    "    yn = input('Enter Y/y for yes and N/n for no: ')\n",
    "    if(yn == 'Y' or yn == 'y'):\n",
    "        print(14*'-'+\" Bill \"+14*'-'+'\\n')\n",
    "        print('Name         :', record[prod_id]['Name'])\n",
    "        print('Price        :', record[prod_id]['Price'])\n",
    "        print('Quantity     :', record[prod_id]['Qn'])\n",
    "        \n",
    "        print(34*'-'+'\\n')\n",
    "        print('Total Amount :', record[prod_id]['Price'] * record[prod_id]['Qn'], 'Rs')\n",
    "        record[prod_id]['Qn'] = 0\n",
    "        sales = name + ',' + email + ',' + phone + ',' + prod_id + ',' + str(prod_qn) + ',' + str(record[prod_id]['Price'] * record[prod_id]['Qn']) + ',' + time.ctime() + '\\n'\n",
    "    else:\n",
    "        print('Sorry! Come again later!')\n",
    "print('\\n'+12*'-'+\" Thank You \"+11*'-'+'\\n')\n",
    "\n",
    "js = json.dumps(record)\n",
    "fd = open('Records.json', 'w')\n",
    "fd.write(js)\n",
    "fd.close() \n",
    "\n",
    "fd = open('Sales.txt', 'a')\n",
    "fd.write(sales)\n",
    "fd.close()\n"
   ]
  },
  {
   "cell_type": "code",
   "execution_count": null,
   "id": "25f7cbbf-01de-47be-830b-2f7baa1d03a5",
   "metadata": {},
   "outputs": [],
   "source": []
  }
 ],
 "metadata": {
  "kernelspec": {
   "display_name": "Python 3 (ipykernel)",
   "language": "python",
   "name": "python3"
  },
  "language_info": {
   "codemirror_mode": {
    "name": "ipython",
    "version": 3
   },
   "file_extension": ".py",
   "mimetype": "text/x-python",
   "name": "python",
   "nbconvert_exporter": "python",
   "pygments_lexer": "ipython3",
   "version": "3.12.7"
  }
 },
 "nbformat": 4,
 "nbformat_minor": 5
}
